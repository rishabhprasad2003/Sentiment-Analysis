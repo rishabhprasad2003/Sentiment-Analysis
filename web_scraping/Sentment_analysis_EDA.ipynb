{
 "cells": [
  {
   "cell_type": "code",
   "execution_count": 17,
   "id": "efdaa81a",
   "metadata": {},
   "outputs": [
    {
     "name": "stderr",
     "output_type": "stream",
     "text": [
      "[nltk_data] Downloading package punkt to\n",
      "[nltk_data]     C:\\Users\\Rishabh\\AppData\\Roaming\\nltk_data...\n",
      "[nltk_data]   Unzipping tokenizers\\punkt.zip.\n"
     ]
    },
    {
     "data": {
      "text/plain": [
       "True"
      ]
     },
     "execution_count": 17,
     "metadata": {},
     "output_type": "execute_result"
    }
   ],
   "source": [
    "import pandas as pd\n",
    "import numpy as np\n",
    "import matplotlib.pyplot as plt\n",
    "import seaborn as sns\n",
    "\n",
    "import nltk\n",
    "nltk.download('punkt')"
   ]
  },
  {
   "cell_type": "code",
   "execution_count": 2,
   "id": "c9367623",
   "metadata": {
    "collapsed": true
   },
   "outputs": [
    {
     "name": "stdout",
     "output_type": "stream",
     "text": [
      "Collecting nltk\n",
      "  Downloading nltk-3.8.1-py3-none-any.whl (1.5 MB)\n",
      "     ---------------------------------------- 1.5/1.5 MB 1.8 MB/s eta 0:00:00\n",
      "Requirement already satisfied: click in c:\\users\\rishabh\\appdata\\local\\programs\\python\\python311\\lib\\site-packages (from nltk) (8.1.3)\n",
      "Requirement already satisfied: joblib in c:\\users\\rishabh\\appdata\\local\\programs\\python\\python311\\lib\\site-packages (from nltk) (1.2.0)\n",
      "Collecting regex>=2021.8.3\n",
      "  Downloading regex-2023.6.3-cp311-cp311-win_amd64.whl (268 kB)\n",
      "     -------------------------------------- 268.0/268.0 kB 3.3 MB/s eta 0:00:00\n",
      "Requirement already satisfied: tqdm in c:\\users\\rishabh\\appdata\\local\\programs\\python\\python311\\lib\\site-packages (from nltk) (4.65.0)\n",
      "Requirement already satisfied: colorama in c:\\users\\rishabh\\appdata\\local\\programs\\python\\python311\\lib\\site-packages (from click->nltk) (0.4.6)\n",
      "Installing collected packages: regex, nltk\n",
      "Successfully installed nltk-3.8.1 regex-2023.6.3\n",
      "Note: you may need to restart the kernel to use updated packages.\n"
     ]
    },
    {
     "name": "stderr",
     "output_type": "stream",
     "text": [
      "\n",
      "[notice] A new release of pip available: 22.3.1 -> 23.2\n",
      "[notice] To update, run: python.exe -m pip install --upgrade pip\n"
     ]
    }
   ],
   "source": [
    "pip install nltk"
   ]
  },
  {
   "cell_type": "code",
   "execution_count": 18,
   "id": "17cbd2c1",
   "metadata": {},
   "outputs": [],
   "source": [
    "df = pd.read_csv('clean_BA_reviews.csv')"
   ]
  },
  {
   "cell_type": "code",
   "execution_count": 19,
   "id": "4e7b57e3",
   "metadata": {},
   "outputs": [
    {
     "data": {
      "text/html": [
       "<div>\n",
       "<style scoped>\n",
       "    .dataframe tbody tr th:only-of-type {\n",
       "        vertical-align: middle;\n",
       "    }\n",
       "\n",
       "    .dataframe tbody tr th {\n",
       "        vertical-align: top;\n",
       "    }\n",
       "\n",
       "    .dataframe thead th {\n",
       "        text-align: right;\n",
       "    }\n",
       "</style>\n",
       "<table border=\"1\" class=\"dataframe\">\n",
       "  <thead>\n",
       "    <tr style=\"text-align: right;\">\n",
       "      <th></th>\n",
       "      <th>Unnamed: 0</th>\n",
       "      <th>review_title</th>\n",
       "      <th>name</th>\n",
       "      <th>date</th>\n",
       "      <th>rating</th>\n",
       "      <th>verification</th>\n",
       "      <th>text_review</th>\n",
       "    </tr>\n",
       "  </thead>\n",
       "  <tbody>\n",
       "    <tr>\n",
       "      <th>0</th>\n",
       "      <td>0</td>\n",
       "      <td>\"Zero empathy was shown\"</td>\n",
       "      <td>B McIver</td>\n",
       "      <td>21st July 2023</td>\n",
       "      <td>5</td>\n",
       "      <td>Trip Verified</td>\n",
       "      <td>A simple story with an unfortunate outcome th...</td>\n",
       "    </tr>\n",
       "    <tr>\n",
       "      <th>1</th>\n",
       "      <td>1</td>\n",
       "      <td>\"pilot apologise at every step of the way\"</td>\n",
       "      <td>D Keane</td>\n",
       "      <td>21st July 2023</td>\n",
       "      <td>1</td>\n",
       "      <td>Trip Verified</td>\n",
       "      <td>Flight was delayed due to the inbound flight...</td>\n",
       "    </tr>\n",
       "    <tr>\n",
       "      <th>2</th>\n",
       "      <td>2</td>\n",
       "      <td>\"crew were always ready to top up drinks\"</td>\n",
       "      <td>Alan Lacey</td>\n",
       "      <td>20th July 2023</td>\n",
       "      <td>4</td>\n",
       "      <td>Not Verified</td>\n",
       "      <td>Fast and friendly check in (total contrast t...</td>\n",
       "    </tr>\n",
       "    <tr>\n",
       "      <th>3</th>\n",
       "      <td>3</td>\n",
       "      <td>\"The service is really mediocre\"</td>\n",
       "      <td>K Malec</td>\n",
       "      <td>20th July 2023</td>\n",
       "      <td>8</td>\n",
       "      <td>Trip Verified</td>\n",
       "      <td>I don't understand why British Airways is cl...</td>\n",
       "    </tr>\n",
       "    <tr>\n",
       "      <th>4</th>\n",
       "      <td>4</td>\n",
       "      <td>\"made their economy experience so miserable\"</td>\n",
       "      <td>Alan Lacey</td>\n",
       "      <td>20th July 2023</td>\n",
       "      <td>2</td>\n",
       "      <td>Not Verified</td>\n",
       "      <td>I'm sure that BA have gradually made their e...</td>\n",
       "    </tr>\n",
       "  </tbody>\n",
       "</table>\n",
       "</div>"
      ],
      "text/plain": [
       "   Unnamed: 0                                  review_title        name  \\\n",
       "0           0                      \"Zero empathy was shown\"    B McIver   \n",
       "1           1    \"pilot apologise at every step of the way\"     D Keane   \n",
       "2           2     \"crew were always ready to top up drinks\"  Alan Lacey   \n",
       "3           3              \"The service is really mediocre\"     K Malec   \n",
       "4           4  \"made their economy experience so miserable\"  Alan Lacey   \n",
       "\n",
       "             date  rating   verification  \\\n",
       "0  21st July 2023       5  Trip Verified   \n",
       "1  21st July 2023       1  Trip Verified   \n",
       "2  20th July 2023       4   Not Verified   \n",
       "3  20th July 2023       8  Trip Verified   \n",
       "4  20th July 2023       2   Not Verified   \n",
       "\n",
       "                                         text_review  \n",
       "0   A simple story with an unfortunate outcome th...  \n",
       "1    Flight was delayed due to the inbound flight...  \n",
       "2    Fast and friendly check in (total contrast t...  \n",
       "3    I don't understand why British Airways is cl...  \n",
       "4    I'm sure that BA have gradually made their e...  "
      ]
     },
     "execution_count": 19,
     "metadata": {},
     "output_type": "execute_result"
    }
   ],
   "source": [
    "df.head()"
   ]
  },
  {
   "cell_type": "code",
   "execution_count": 20,
   "id": "c632e24c",
   "metadata": {},
   "outputs": [
    {
     "data": {
      "text/plain": [
       "(3600, 7)"
      ]
     },
     "execution_count": 20,
     "metadata": {},
     "output_type": "execute_result"
    }
   ],
   "source": [
    "df.shape"
   ]
  },
  {
   "cell_type": "code",
   "execution_count": 21,
   "id": "c8260b56",
   "metadata": {},
   "outputs": [],
   "source": [
    "sample = df.head(500)"
   ]
  },
  {
   "cell_type": "code",
   "execution_count": 22,
   "id": "b1329b97",
   "metadata": {},
   "outputs": [
    {
     "data": {
      "text/html": [
       "<div>\n",
       "<style scoped>\n",
       "    .dataframe tbody tr th:only-of-type {\n",
       "        vertical-align: middle;\n",
       "    }\n",
       "\n",
       "    .dataframe tbody tr th {\n",
       "        vertical-align: top;\n",
       "    }\n",
       "\n",
       "    .dataframe thead th {\n",
       "        text-align: right;\n",
       "    }\n",
       "</style>\n",
       "<table border=\"1\" class=\"dataframe\">\n",
       "  <thead>\n",
       "    <tr style=\"text-align: right;\">\n",
       "      <th></th>\n",
       "      <th>Unnamed: 0</th>\n",
       "      <th>review_title</th>\n",
       "      <th>name</th>\n",
       "      <th>date</th>\n",
       "      <th>rating</th>\n",
       "      <th>verification</th>\n",
       "      <th>text_review</th>\n",
       "    </tr>\n",
       "  </thead>\n",
       "  <tbody>\n",
       "    <tr>\n",
       "      <th>0</th>\n",
       "      <td>0</td>\n",
       "      <td>\"Zero empathy was shown\"</td>\n",
       "      <td>B McIver</td>\n",
       "      <td>21st July 2023</td>\n",
       "      <td>5</td>\n",
       "      <td>Trip Verified</td>\n",
       "      <td>A simple story with an unfortunate outcome th...</td>\n",
       "    </tr>\n",
       "    <tr>\n",
       "      <th>1</th>\n",
       "      <td>1</td>\n",
       "      <td>\"pilot apologise at every step of the way\"</td>\n",
       "      <td>D Keane</td>\n",
       "      <td>21st July 2023</td>\n",
       "      <td>1</td>\n",
       "      <td>Trip Verified</td>\n",
       "      <td>Flight was delayed due to the inbound flight...</td>\n",
       "    </tr>\n",
       "    <tr>\n",
       "      <th>2</th>\n",
       "      <td>2</td>\n",
       "      <td>\"crew were always ready to top up drinks\"</td>\n",
       "      <td>Alan Lacey</td>\n",
       "      <td>20th July 2023</td>\n",
       "      <td>4</td>\n",
       "      <td>Not Verified</td>\n",
       "      <td>Fast and friendly check in (total contrast t...</td>\n",
       "    </tr>\n",
       "    <tr>\n",
       "      <th>3</th>\n",
       "      <td>3</td>\n",
       "      <td>\"The service is really mediocre\"</td>\n",
       "      <td>K Malec</td>\n",
       "      <td>20th July 2023</td>\n",
       "      <td>8</td>\n",
       "      <td>Trip Verified</td>\n",
       "      <td>I don't understand why British Airways is cl...</td>\n",
       "    </tr>\n",
       "    <tr>\n",
       "      <th>4</th>\n",
       "      <td>4</td>\n",
       "      <td>\"made their economy experience so miserable\"</td>\n",
       "      <td>Alan Lacey</td>\n",
       "      <td>20th July 2023</td>\n",
       "      <td>2</td>\n",
       "      <td>Not Verified</td>\n",
       "      <td>I'm sure that BA have gradually made their e...</td>\n",
       "    </tr>\n",
       "  </tbody>\n",
       "</table>\n",
       "</div>"
      ],
      "text/plain": [
       "   Unnamed: 0                                  review_title        name  \\\n",
       "0           0                      \"Zero empathy was shown\"    B McIver   \n",
       "1           1    \"pilot apologise at every step of the way\"     D Keane   \n",
       "2           2     \"crew were always ready to top up drinks\"  Alan Lacey   \n",
       "3           3              \"The service is really mediocre\"     K Malec   \n",
       "4           4  \"made their economy experience so miserable\"  Alan Lacey   \n",
       "\n",
       "             date  rating   verification  \\\n",
       "0  21st July 2023       5  Trip Verified   \n",
       "1  21st July 2023       1  Trip Verified   \n",
       "2  20th July 2023       4   Not Verified   \n",
       "3  20th July 2023       8  Trip Verified   \n",
       "4  20th July 2023       2   Not Verified   \n",
       "\n",
       "                                         text_review  \n",
       "0   A simple story with an unfortunate outcome th...  \n",
       "1    Flight was delayed due to the inbound flight...  \n",
       "2    Fast and friendly check in (total contrast t...  \n",
       "3    I don't understand why British Airways is cl...  \n",
       "4    I'm sure that BA have gradually made their e...  "
      ]
     },
     "execution_count": 22,
     "metadata": {},
     "output_type": "execute_result"
    }
   ],
   "source": [
    "sample.head()"
   ]
  },
  {
   "cell_type": "code",
   "execution_count": 23,
   "id": "b5d7ea6c",
   "metadata": {},
   "outputs": [
    {
     "data": {
      "text/plain": [
       "(500, 7)"
      ]
     },
     "execution_count": 23,
     "metadata": {},
     "output_type": "execute_result"
    }
   ],
   "source": [
    "sample.shape"
   ]
  },
  {
   "cell_type": "code",
   "execution_count": 77,
   "id": "b56128a1",
   "metadata": {
    "scrolled": true
   },
   "outputs": [
    {
     "data": {
      "image/png": "[encoded data removed]",
      "text/plain": [
       "<Figure size 640x480 with 1 Axes>"
      ]
     },
     "metadata": {},
     "output_type": "display_data"
    }
   ],
   "source": [
    "ax = sample['rating'].value_counts().sort_index().plot(kind='bar', title='Rating out of 10')\n",
    "ax.set_xlabel('Review Rating')\n",
    "ax.set_ylabel('Number of Rating')\n",
    "plt.show()"
   ]
  },
  {
   "cell_type": "code",
   "execution_count": 80,
   "id": "61189019",
   "metadata": {},
   "outputs": [
    {
     "data": {
      "text/plain": [
       "4.811111111111111"
      ]
     },
     "execution_count": 80,
     "metadata": {},
     "output_type": "execute_result"
    }
   ],
   "source": [
    "df['rating'].mean()"
   ]
  },
  {
   "cell_type": "code",
   "execution_count": 25,
   "id": "28f8991b",
   "metadata": {},
   "outputs": [
    {
     "name": "stdout",
     "output_type": "stream",
     "text": [
      "\"Zero empathy was shown\"\n"
     ]
    }
   ],
   "source": [
    "# NLTK\n",
    "\n",
    "example = sample['review_title'][0]\n",
    "print(example)"
   ]
  },
  {
   "cell_type": "code",
   "execution_count": 28,
   "id": "8f8ad6e4",
   "metadata": {},
   "outputs": [
    {
     "data": {
      "text/plain": [
       "['Zero', 'empathy', 'was', 'shown']"
      ]
     },
     "execution_count": 28,
     "metadata": {},
     "output_type": "execute_result"
    }
   ],
   "source": [
    "tokens = nltk.word_tokenize(example)[1:-1]\n",
    "tokens"
   ]
  },
  {
   "cell_type": "code",
   "execution_count": 30,
   "id": "a4f881be",
   "metadata": {},
   "outputs": [
    {
     "name": "stderr",
     "output_type": "stream",
     "text": [
      "[nltk_data] Downloading package averaged_perceptron_tagger to\n",
      "[nltk_data]     C:\\Users\\Rishabh\\AppData\\Roaming\\nltk_data...\n",
      "[nltk_data]   Unzipping taggers\\averaged_perceptron_tagger.zip.\n"
     ]
    },
    {
     "data": {
      "text/plain": [
       "True"
      ]
     },
     "execution_count": 30,
     "metadata": {},
     "output_type": "execute_result"
    }
   ],
   "source": [
    "nltk.download('averaged_perceptron_tagger')"
   ]
  },
  {
   "cell_type": "code",
   "execution_count": 34,
   "id": "c26585cd",
   "metadata": {},
   "outputs": [],
   "source": [
    "tagged = nltk.pos_tag(tokens)\n"
   ]
  },
  {
   "cell_type": "code",
   "execution_count": 36,
   "id": "192ffe5f",
   "metadata": {
    "scrolled": true
   },
   "outputs": [
    {
     "name": "stderr",
     "output_type": "stream",
     "text": [
      "[nltk_data] Downloading package maxent_ne_chunker to\n",
      "[nltk_data]     C:\\Users\\Rishabh\\AppData\\Roaming\\nltk_data...\n",
      "[nltk_data]   Unzipping chunkers\\maxent_ne_chunker.zip.\n"
     ]
    },
    {
     "data": {
      "text/plain": [
       "True"
      ]
     },
     "execution_count": 36,
     "metadata": {},
     "output_type": "execute_result"
    }
   ],
   "source": [
    "nltk.download('maxent_ne_chunker')"
   ]
  },
  {
   "cell_type": "code",
   "execution_count": 38,
   "id": "07faabf2",
   "metadata": {},
   "outputs": [
    {
     "name": "stderr",
     "output_type": "stream",
     "text": [
      "[nltk_data] Downloading package words to\n",
      "[nltk_data]     C:\\Users\\Rishabh\\AppData\\Roaming\\nltk_data...\n",
      "[nltk_data]   Unzipping corpora\\words.zip.\n"
     ]
    },
    {
     "data": {
      "text/plain": [
       "True"
      ]
     },
     "execution_count": 38,
     "metadata": {},
     "output_type": "execute_result"
    }
   ],
   "source": [
    "nltk.download('words')"
   ]
  },
  {
   "cell_type": "code",
   "execution_count": 39,
   "id": "a00df192",
   "metadata": {},
   "outputs": [],
   "source": [
    "entities = nltk.chunk.ne_chunk(tagged)"
   ]
  },
  {
   "cell_type": "code",
   "execution_count": 40,
   "id": "3adf745e",
   "metadata": {},
   "outputs": [
    {
     "name": "stdout",
     "output_type": "stream",
     "text": [
      "(S (GPE Zero/NNP) empathy/NN was/VBD shown/VBN)\n"
     ]
    }
   ],
   "source": [
    "entities.pprint()"
   ]
  },
  {
   "cell_type": "markdown",
   "id": "200196f9",
   "metadata": {},
   "source": [
    "### VADER - valence aware dictionary and sentiment reasoner"
   ]
  },
  {
   "cell_type": "code",
   "execution_count": 41,
   "id": "323af4c5",
   "metadata": {},
   "outputs": [],
   "source": [
    "from nltk.sentiment import SentimentIntensityAnalyzer\n",
    "#from tqdm.notebook import tqdm "
   ]
  },
  {
   "cell_type": "code",
   "execution_count": 43,
   "id": "7c086fc1",
   "metadata": {},
   "outputs": [
    {
     "name": "stderr",
     "output_type": "stream",
     "text": [
      "[nltk_data] Downloading package vader_lexicon to\n",
      "[nltk_data]     C:\\Users\\Rishabh\\AppData\\Roaming\\nltk_data...\n"
     ]
    },
    {
     "data": {
      "text/plain": [
       "True"
      ]
     },
     "execution_count": 43,
     "metadata": {},
     "output_type": "execute_result"
    }
   ],
   "source": [
    "nltk.download('vader_lexicon')"
   ]
  },
  {
   "cell_type": "code",
   "execution_count": 44,
   "id": "c3eb1120",
   "metadata": {},
   "outputs": [],
   "source": [
    "sia = SentimentIntensityAnalyzer()"
   ]
  },
  {
   "cell_type": "code",
   "execution_count": 52,
   "id": "ddf4276d",
   "metadata": {},
   "outputs": [
    {
     "data": {
      "text/plain": [
       "{'neg': 0.0, 'neu': 0.318, 'pos': 0.682, 'compound': 0.6468}"
      ]
     },
     "execution_count": 52,
     "metadata": {},
     "output_type": "execute_result"
    }
   ],
   "source": [
    "sia.polarity_scores('I am very happy!')\n",
    "# 'compound'  ->  it is the aggregation of all neu, pos, neg\n",
    "# range is -> [-1,1]"
   ]
  },
  {
   "cell_type": "code",
   "execution_count": 55,
   "id": "73cfd113",
   "metadata": {},
   "outputs": [
    {
     "data": {
      "text/plain": [
       "'Zero empathy was shown'"
      ]
     },
     "execution_count": 55,
     "metadata": {},
     "output_type": "execute_result"
    }
   ],
   "source": [
    "example[1:-1]"
   ]
  },
  {
   "cell_type": "code",
   "execution_count": 58,
   "id": "cd3cd4e4",
   "metadata": {},
   "outputs": [
    {
     "data": {
      "text/plain": [
       "{'neg': 0.0, 'neu': 1.0, 'pos': 0.0, 'compound': 0.0}"
      ]
     },
     "execution_count": 58,
     "metadata": {},
     "output_type": "execute_result"
    }
   ],
   "source": [
    "sia.polarity_scores(example)"
   ]
  },
  {
   "cell_type": "code",
   "execution_count": 62,
   "id": "2125e0c5",
   "metadata": {},
   "outputs": [
    {
     "data": {
      "text/html": [
       "<div>\n",
       "<style scoped>\n",
       "    .dataframe tbody tr th:only-of-type {\n",
       "        vertical-align: middle;\n",
       "    }\n",
       "\n",
       "    .dataframe tbody tr th {\n",
       "        vertical-align: top;\n",
       "    }\n",
       "\n",
       "    .dataframe thead th {\n",
       "        text-align: right;\n",
       "    }\n",
       "</style>\n",
       "<table border=\"1\" class=\"dataframe\">\n",
       "  <thead>\n",
       "    <tr style=\"text-align: right;\">\n",
       "      <th></th>\n",
       "      <th>Unnamed: 0</th>\n",
       "      <th>review_title</th>\n",
       "      <th>name</th>\n",
       "      <th>date</th>\n",
       "      <th>rating</th>\n",
       "      <th>verification</th>\n",
       "      <th>text_review</th>\n",
       "    </tr>\n",
       "  </thead>\n",
       "  <tbody>\n",
       "    <tr>\n",
       "      <th>0</th>\n",
       "      <td>0</td>\n",
       "      <td>\"Zero empathy was shown\"</td>\n",
       "      <td>B McIver</td>\n",
       "      <td>21st July 2023</td>\n",
       "      <td>5</td>\n",
       "      <td>Trip Verified</td>\n",
       "      <td>A simple story with an unfortunate outcome th...</td>\n",
       "    </tr>\n",
       "    <tr>\n",
       "      <th>1</th>\n",
       "      <td>1</td>\n",
       "      <td>\"pilot apologise at every step of the way\"</td>\n",
       "      <td>D Keane</td>\n",
       "      <td>21st July 2023</td>\n",
       "      <td>1</td>\n",
       "      <td>Trip Verified</td>\n",
       "      <td>Flight was delayed due to the inbound flight...</td>\n",
       "    </tr>\n",
       "    <tr>\n",
       "      <th>2</th>\n",
       "      <td>2</td>\n",
       "      <td>\"crew were always ready to top up drinks\"</td>\n",
       "      <td>Alan Lacey</td>\n",
       "      <td>20th July 2023</td>\n",
       "      <td>4</td>\n",
       "      <td>Not Verified</td>\n",
       "      <td>Fast and friendly check in (total contrast t...</td>\n",
       "    </tr>\n",
       "    <tr>\n",
       "      <th>3</th>\n",
       "      <td>3</td>\n",
       "      <td>\"The service is really mediocre\"</td>\n",
       "      <td>K Malec</td>\n",
       "      <td>20th July 2023</td>\n",
       "      <td>8</td>\n",
       "      <td>Trip Verified</td>\n",
       "      <td>I don't understand why British Airways is cl...</td>\n",
       "    </tr>\n",
       "    <tr>\n",
       "      <th>4</th>\n",
       "      <td>4</td>\n",
       "      <td>\"made their economy experience so miserable\"</td>\n",
       "      <td>Alan Lacey</td>\n",
       "      <td>20th July 2023</td>\n",
       "      <td>2</td>\n",
       "      <td>Not Verified</td>\n",
       "      <td>I'm sure that BA have gradually made their e...</td>\n",
       "    </tr>\n",
       "  </tbody>\n",
       "</table>\n",
       "</div>"
      ],
      "text/plain": [
       "   Unnamed: 0                                  review_title        name  \\\n",
       "0           0                      \"Zero empathy was shown\"    B McIver   \n",
       "1           1    \"pilot apologise at every step of the way\"     D Keane   \n",
       "2           2     \"crew were always ready to top up drinks\"  Alan Lacey   \n",
       "3           3              \"The service is really mediocre\"     K Malec   \n",
       "4           4  \"made their economy experience so miserable\"  Alan Lacey   \n",
       "\n",
       "             date  rating   verification  \\\n",
       "0  21st July 2023       5  Trip Verified   \n",
       "1  21st July 2023       1  Trip Verified   \n",
       "2  20th July 2023       4   Not Verified   \n",
       "3  20th July 2023       8  Trip Verified   \n",
       "4  20th July 2023       2   Not Verified   \n",
       "\n",
       "                                         text_review  \n",
       "0   A simple story with an unfortunate outcome th...  \n",
       "1    Flight was delayed due to the inbound flight...  \n",
       "2    Fast and friendly check in (total contrast t...  \n",
       "3    I don't understand why British Airways is cl...  \n",
       "4    I'm sure that BA have gradually made their e...  "
      ]
     },
     "execution_count": 62,
     "metadata": {},
     "output_type": "execute_result"
    }
   ],
   "source": [
    "sample.head()"
   ]
  },
  {
   "cell_type": "code",
   "execution_count": 63,
   "id": "188ab544",
   "metadata": {},
   "outputs": [],
   "source": [
    "res ={}\n",
    "for i ,row in enumerate(df['review_title']):\n",
    "    res[i] = sia.polarity_scores(row)"
   ]
  },
  {
   "cell_type": "code",
   "execution_count": 67,
   "id": "b520a613",
   "metadata": {
    "scrolled": false
   },
   "outputs": [],
   "source": [
    "vaders = pd.DataFrame(res).T"
   ]
  },
  {
   "cell_type": "code",
   "execution_count": 68,
   "id": "e8bb2d8d",
   "metadata": {},
   "outputs": [
    {
     "data": {
      "text/plain": [
       "(3600, 4)"
      ]
     },
     "execution_count": 68,
     "metadata": {},
     "output_type": "execute_result"
    }
   ],
   "source": [
    "vaders.shape"
   ]
  },
  {
   "cell_type": "code",
   "execution_count": 69,
   "id": "e4cc9354",
   "metadata": {},
   "outputs": [
    {
     "data": {
      "text/html": [
       "<div>\n",
       "<style scoped>\n",
       "    .dataframe tbody tr th:only-of-type {\n",
       "        vertical-align: middle;\n",
       "    }\n",
       "\n",
       "    .dataframe tbody tr th {\n",
       "        vertical-align: top;\n",
       "    }\n",
       "\n",
       "    .dataframe thead th {\n",
       "        text-align: right;\n",
       "    }\n",
       "</style>\n",
       "<table border=\"1\" class=\"dataframe\">\n",
       "  <thead>\n",
       "    <tr style=\"text-align: right;\">\n",
       "      <th></th>\n",
       "      <th>neg</th>\n",
       "      <th>neu</th>\n",
       "      <th>pos</th>\n",
       "      <th>compound</th>\n",
       "    </tr>\n",
       "  </thead>\n",
       "  <tbody>\n",
       "    <tr>\n",
       "      <th>0</th>\n",
       "      <td>0.000</td>\n",
       "      <td>1.000</td>\n",
       "      <td>0.000</td>\n",
       "      <td>0.0000</td>\n",
       "    </tr>\n",
       "    <tr>\n",
       "      <th>1</th>\n",
       "      <td>0.000</td>\n",
       "      <td>0.729</td>\n",
       "      <td>0.271</td>\n",
       "      <td>0.3818</td>\n",
       "    </tr>\n",
       "    <tr>\n",
       "      <th>2</th>\n",
       "      <td>0.000</td>\n",
       "      <td>0.583</td>\n",
       "      <td>0.417</td>\n",
       "      <td>0.5106</td>\n",
       "    </tr>\n",
       "    <tr>\n",
       "      <th>3</th>\n",
       "      <td>0.000</td>\n",
       "      <td>1.000</td>\n",
       "      <td>0.000</td>\n",
       "      <td>0.0000</td>\n",
       "    </tr>\n",
       "    <tr>\n",
       "      <th>4</th>\n",
       "      <td>0.452</td>\n",
       "      <td>0.548</td>\n",
       "      <td>0.000</td>\n",
       "      <td>-0.6269</td>\n",
       "    </tr>\n",
       "  </tbody>\n",
       "</table>\n",
       "</div>"
      ],
      "text/plain": [
       "     neg    neu    pos  compound\n",
       "0  0.000  1.000  0.000    0.0000\n",
       "1  0.000  0.729  0.271    0.3818\n",
       "2  0.000  0.583  0.417    0.5106\n",
       "3  0.000  1.000  0.000    0.0000\n",
       "4  0.452  0.548  0.000   -0.6269"
      ]
     },
     "execution_count": 69,
     "metadata": {},
     "output_type": "execute_result"
    }
   ],
   "source": [
    "vaders.head()"
   ]
  },
  {
   "cell_type": "code",
   "execution_count": 72,
   "id": "b7be7733",
   "metadata": {},
   "outputs": [],
   "source": [
    "#result = pd.concat([df1, df3], axis=1, join='inner')\n",
    "result = pd.concat([df,vaders], axis=1, join='inner')"
   ]
  },
  {
   "cell_type": "code",
   "execution_count": 73,
   "id": "cf68769f",
   "metadata": {},
   "outputs": [
    {
     "data": {
      "text/html": [
       "<div>\n",
       "<style scoped>\n",
       "    .dataframe tbody tr th:only-of-type {\n",
       "        vertical-align: middle;\n",
       "    }\n",
       "\n",
       "    .dataframe tbody tr th {\n",
       "        vertical-align: top;\n",
       "    }\n",
       "\n",
       "    .dataframe thead th {\n",
       "        text-align: right;\n",
       "    }\n",
       "</style>\n",
       "<table border=\"1\" class=\"dataframe\">\n",
       "  <thead>\n",
       "    <tr style=\"text-align: right;\">\n",
       "      <th></th>\n",
       "      <th>Unnamed: 0</th>\n",
       "      <th>review_title</th>\n",
       "      <th>name</th>\n",
       "      <th>date</th>\n",
       "      <th>rating</th>\n",
       "      <th>verification</th>\n",
       "      <th>text_review</th>\n",
       "      <th>neg</th>\n",
       "      <th>neu</th>\n",
       "      <th>pos</th>\n",
       "      <th>compound</th>\n",
       "    </tr>\n",
       "  </thead>\n",
       "  <tbody>\n",
       "    <tr>\n",
       "      <th>0</th>\n",
       "      <td>0</td>\n",
       "      <td>\"Zero empathy was shown\"</td>\n",
       "      <td>B McIver</td>\n",
       "      <td>21st July 2023</td>\n",
       "      <td>5</td>\n",
       "      <td>Trip Verified</td>\n",
       "      <td>A simple story with an unfortunate outcome th...</td>\n",
       "      <td>0.000</td>\n",
       "      <td>1.000</td>\n",
       "      <td>0.000</td>\n",
       "      <td>0.0000</td>\n",
       "    </tr>\n",
       "    <tr>\n",
       "      <th>1</th>\n",
       "      <td>1</td>\n",
       "      <td>\"pilot apologise at every step of the way\"</td>\n",
       "      <td>D Keane</td>\n",
       "      <td>21st July 2023</td>\n",
       "      <td>1</td>\n",
       "      <td>Trip Verified</td>\n",
       "      <td>Flight was delayed due to the inbound flight...</td>\n",
       "      <td>0.000</td>\n",
       "      <td>0.729</td>\n",
       "      <td>0.271</td>\n",
       "      <td>0.3818</td>\n",
       "    </tr>\n",
       "    <tr>\n",
       "      <th>2</th>\n",
       "      <td>2</td>\n",
       "      <td>\"crew were always ready to top up drinks\"</td>\n",
       "      <td>Alan Lacey</td>\n",
       "      <td>20th July 2023</td>\n",
       "      <td>4</td>\n",
       "      <td>Not Verified</td>\n",
       "      <td>Fast and friendly check in (total contrast t...</td>\n",
       "      <td>0.000</td>\n",
       "      <td>0.583</td>\n",
       "      <td>0.417</td>\n",
       "      <td>0.5106</td>\n",
       "    </tr>\n",
       "    <tr>\n",
       "      <th>3</th>\n",
       "      <td>3</td>\n",
       "      <td>\"The service is really mediocre\"</td>\n",
       "      <td>K Malec</td>\n",
       "      <td>20th July 2023</td>\n",
       "      <td>8</td>\n",
       "      <td>Trip Verified</td>\n",
       "      <td>I don't understand why British Airways is cl...</td>\n",
       "      <td>0.000</td>\n",
       "      <td>1.000</td>\n",
       "      <td>0.000</td>\n",
       "      <td>0.0000</td>\n",
       "    </tr>\n",
       "    <tr>\n",
       "      <th>4</th>\n",
       "      <td>4</td>\n",
       "      <td>\"made their economy experience so miserable\"</td>\n",
       "      <td>Alan Lacey</td>\n",
       "      <td>20th July 2023</td>\n",
       "      <td>2</td>\n",
       "      <td>Not Verified</td>\n",
       "      <td>I'm sure that BA have gradually made their e...</td>\n",
       "      <td>0.452</td>\n",
       "      <td>0.548</td>\n",
       "      <td>0.000</td>\n",
       "      <td>-0.6269</td>\n",
       "    </tr>\n",
       "    <tr>\n",
       "      <th>...</th>\n",
       "      <td>...</td>\n",
       "      <td>...</td>\n",
       "      <td>...</td>\n",
       "      <td>...</td>\n",
       "      <td>...</td>\n",
       "      <td>...</td>\n",
       "      <td>...</td>\n",
       "      <td>...</td>\n",
       "      <td>...</td>\n",
       "      <td>...</td>\n",
       "      <td>...</td>\n",
       "    </tr>\n",
       "    <tr>\n",
       "      <th>3595</th>\n",
       "      <td>3595</td>\n",
       "      <td>British Airways customer review</td>\n",
       "      <td>Bruce Bettridge</td>\n",
       "      <td>29th August 2012</td>\n",
       "      <td>7</td>\n",
       "      <td>NaN</td>\n",
       "      <td>Business LHR to BKK. 747-400. First try back w...</td>\n",
       "      <td>0.000</td>\n",
       "      <td>1.000</td>\n",
       "      <td>0.000</td>\n",
       "      <td>0.0000</td>\n",
       "    </tr>\n",
       "    <tr>\n",
       "      <th>3596</th>\n",
       "      <td>3596</td>\n",
       "      <td>British Airways customer review</td>\n",
       "      <td>J Robertson</td>\n",
       "      <td>29th August 2012</td>\n",
       "      <td>4</td>\n",
       "      <td>NaN</td>\n",
       "      <td>This was a bmi Regional operated flight on a R...</td>\n",
       "      <td>0.000</td>\n",
       "      <td>1.000</td>\n",
       "      <td>0.000</td>\n",
       "      <td>0.0000</td>\n",
       "    </tr>\n",
       "    <tr>\n",
       "      <th>3597</th>\n",
       "      <td>3597</td>\n",
       "      <td>British Airways customer review</td>\n",
       "      <td>W Benson</td>\n",
       "      <td>29th August 2012</td>\n",
       "      <td>1</td>\n",
       "      <td>NaN</td>\n",
       "      <td>LHR-HKG on Boeing 747 - 23/08/12. Much has bee...</td>\n",
       "      <td>0.000</td>\n",
       "      <td>1.000</td>\n",
       "      <td>0.000</td>\n",
       "      <td>0.0000</td>\n",
       "    </tr>\n",
       "    <tr>\n",
       "      <th>3598</th>\n",
       "      <td>3598</td>\n",
       "      <td>British Airways customer review</td>\n",
       "      <td>S Luqman</td>\n",
       "      <td>29th August 2012</td>\n",
       "      <td>4</td>\n",
       "      <td>NaN</td>\n",
       "      <td>Just got back from Bridgetown Barbados flying ...</td>\n",
       "      <td>0.000</td>\n",
       "      <td>1.000</td>\n",
       "      <td>0.000</td>\n",
       "      <td>0.0000</td>\n",
       "    </tr>\n",
       "    <tr>\n",
       "      <th>3599</th>\n",
       "      <td>3599</td>\n",
       "      <td>British Airways customer review</td>\n",
       "      <td>D Smith</td>\n",
       "      <td>29th August 2012</td>\n",
       "      <td>4</td>\n",
       "      <td>NaN</td>\n",
       "      <td>LHR-JFK-LAX-LHR. Check in was ok apart from be...</td>\n",
       "      <td>0.000</td>\n",
       "      <td>1.000</td>\n",
       "      <td>0.000</td>\n",
       "      <td>0.0000</td>\n",
       "    </tr>\n",
       "  </tbody>\n",
       "</table>\n",
       "<p>3600 rows × 11 columns</p>\n",
       "</div>"
      ],
      "text/plain": [
       "      Unnamed: 0                                  review_title  \\\n",
       "0              0                      \"Zero empathy was shown\"   \n",
       "1              1    \"pilot apologise at every step of the way\"   \n",
       "2              2     \"crew were always ready to top up drinks\"   \n",
       "3              3              \"The service is really mediocre\"   \n",
       "4              4  \"made their economy experience so miserable\"   \n",
       "...          ...                                           ...   \n",
       "3595        3595               British Airways customer review   \n",
       "3596        3596               British Airways customer review   \n",
       "3597        3597               British Airways customer review   \n",
       "3598        3598               British Airways customer review   \n",
       "3599        3599               British Airways customer review   \n",
       "\n",
       "                 name              date  rating   verification  \\\n",
       "0            B McIver    21st July 2023       5  Trip Verified   \n",
       "1             D Keane    21st July 2023       1  Trip Verified   \n",
       "2          Alan Lacey    20th July 2023       4   Not Verified   \n",
       "3             K Malec    20th July 2023       8  Trip Verified   \n",
       "4          Alan Lacey    20th July 2023       2   Not Verified   \n",
       "...               ...               ...     ...            ...   \n",
       "3595  Bruce Bettridge  29th August 2012       7            NaN   \n",
       "3596      J Robertson  29th August 2012       4            NaN   \n",
       "3597         W Benson  29th August 2012       1            NaN   \n",
       "3598         S Luqman  29th August 2012       4            NaN   \n",
       "3599          D Smith  29th August 2012       4            NaN   \n",
       "\n",
       "                                            text_review    neg    neu    pos  \\\n",
       "0      A simple story with an unfortunate outcome th...  0.000  1.000  0.000   \n",
       "1       Flight was delayed due to the inbound flight...  0.000  0.729  0.271   \n",
       "2       Fast and friendly check in (total contrast t...  0.000  0.583  0.417   \n",
       "3       I don't understand why British Airways is cl...  0.000  1.000  0.000   \n",
       "4       I'm sure that BA have gradually made their e...  0.452  0.548  0.000   \n",
       "...                                                 ...    ...    ...    ...   \n",
       "3595  Business LHR to BKK. 747-400. First try back w...  0.000  1.000  0.000   \n",
       "3596  This was a bmi Regional operated flight on a R...  0.000  1.000  0.000   \n",
       "3597  LHR-HKG on Boeing 747 - 23/08/12. Much has bee...  0.000  1.000  0.000   \n",
       "3598  Just got back from Bridgetown Barbados flying ...  0.000  1.000  0.000   \n",
       "3599  LHR-JFK-LAX-LHR. Check in was ok apart from be...  0.000  1.000  0.000   \n",
       "\n",
       "      compound  \n",
       "0       0.0000  \n",
       "1       0.3818  \n",
       "2       0.5106  \n",
       "3       0.0000  \n",
       "4      -0.6269  \n",
       "...        ...  \n",
       "3595    0.0000  \n",
       "3596    0.0000  \n",
       "3597    0.0000  \n",
       "3598    0.0000  \n",
       "3599    0.0000  \n",
       "\n",
       "[3600 rows x 11 columns]"
      ]
     },
     "execution_count": 73,
     "metadata": {},
     "output_type": "execute_result"
    }
   ],
   "source": [
    "result"
   ]
  },
  {
   "cell_type": "code",
   "execution_count": 74,
   "id": "99589905",
   "metadata": {},
   "outputs": [
    {
     "data": {
      "text/plain": [
       "<AxesSubplot: xlabel='rating', ylabel='compound'>"
      ]
     },
     "execution_count": 74,
     "metadata": {},
     "output_type": "execute_result"
    },
    {
     "data": {
      "image/png": "[encoded data removed]",
      "text/plain": [
       "<Figure size 640x480 with 1 Axes>"
      ]
     },
     "metadata": {},
     "output_type": "display_data"
    }
   ],
   "source": [
    "sns.barplot(data=result, x='rating', y='compound')"
   ]
  },
  {
   "cell_type": "code",
   "execution_count": 76,
   "id": "d7eb55b0",
   "metadata": {},
   "outputs": [
    {
     "data": {
      "image/png": "[encoded data removed]",
      "text/plain": [
       "<Figure size 1500x500 with 3 Axes>"
      ]
     },
     "metadata": {},
     "output_type": "display_data"
    }
   ],
   "source": [
    "fig, axs = plt.subplots(1,3, figsize=(15,5))\n",
    "sns.barplot(data=result, x='rating',y='pos', ax = axs[0])\n",
    "sns.barplot(data=result, x='rating',y='neu', ax = axs[1])\n",
    "sns.barplot(data=result, x='rating',y='neg', ax = axs[2])\n",
    "axs[0].set_title('Positive')\n",
    "axs[1].set_title('Neutral')\n",
    "axs[2].set_title('Negative')\n",
    "plt.show()"
   ]
  },
  {
   "cell_type": "code",
   "execution_count": null,
   "id": "10ca3fed",
   "metadata": {},
   "outputs": [],
   "source": []
  }
 ],
 "metadata": {
  "kernelspec": {
   "display_name": "Python 3 (ipykernel)",
   "language": "python",
   "name": "python3"
  },
  "language_info": {
   "codemirror_mode": {
    "name": "ipython",
    "version": 3
   },
   "file_extension": ".py",
   "mimetype": "text/x-python",
   "name": "python",
   "nbconvert_exporter": "python",
   "pygments_lexer": "ipython3",
   "version": "3.11.1"
  }
 },
 "nbformat": 4,
 "nbformat_minor": 5
}
